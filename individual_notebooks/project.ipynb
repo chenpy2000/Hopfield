{
 "cells": [
  {
   "cell_type": "markdown",
   "id": "6dcc1516-a783-4264-96ee-a87a31d0e483",
   "metadata": {},
   "source": [
    "# Initialization"
   ]
  },
  {
   "cell_type": "code",
   "execution_count": 2,
   "id": "cccd97cd-a694-4def-bb07-9186a302f1e2",
   "metadata": {},
   "outputs": [],
   "source": [
    "import numpy as np\n",
    "\n",
    "# load training data\n",
    "stored_images = np.load(\"data/binarized/train_images.npy\")"
   ]
  },
  {
   "cell_type": "code",
   "execution_count": 22,
   "id": "56b666f3-05a3-45c4-829a-eeac190329d6",
   "metadata": {},
   "outputs": [],
   "source": [
    "num_neurons = 1024\n",
    "num_patterns = 5\n",
    "\n",
    "# randomly select from training set\n",
    "idxs = np.random.choice(range(len(stored_images)), size=num_patterns, replace=False)\n",
    "original = [stored_images[i] for i in idxs]\n",
    "corrupted = [masked_images[i] for i in idxs]\n",
    "retrieved = []"
   ]
  },
  {
   "cell_type": "markdown",
   "id": "e6109da2-650c-4a39-bfdd-f164a5bb1ece",
   "metadata": {},
   "source": [
    "# Models"
   ]
  },
  {
   "cell_type": "code",
   "execution_count": 19,
   "id": "e9a316a4-d379-4d52-982b-cdf4bf328f8e",
   "metadata": {},
   "outputs": [],
   "source": [
    "class HopfieldNet:\n",
    "    def __init__(self, N):\n",
    "        self.N = N\n",
    "        self.W = np.zeros((N, N))\n",
    "        self.state = np.random.choice([-1, 1], size=self.N)\n",
    "    \n",
    "    def train(self, patterns):\n",
    "        patterns = np.array(patterns)\n",
    "        for pattern in patterns:\n",
    "            pattern = np.array(pattern).reshape(-1, 1)\n",
    "            self.W += np.dot(pattern, pattern.T)\n",
    "        \n",
    "        np.fill_diagonal(self.W, 0)\n",
    "        self.W /= self.N\n",
    "\n",
    "    def init_state(self, pattern):\n",
    "        self.state = pattern\n",
    "    \n",
    "    def forward(self, steps):\n",
    "        for _ in range(steps):\n",
    "            i = np.random.randint(0, self.N)\n",
    "            self.state[i] = 1 if np.dot(self.W[i], self.state) >= 0 else -1  # Update neuron i\n",
    "        return self.state"
   ]
  },
  {
   "cell_type": "markdown",
   "id": "2e5a7d67-f723-4aab-8f7b-04a57977ea0e",
   "metadata": {},
   "source": [
    "# Main"
   ]
  },
  {
   "cell_type": "code",
   "execution_count": 33,
   "id": "994a618c-f71c-41fc-bb29-47061a9b0ecc",
   "metadata": {},
   "outputs": [],
   "source": [
    "HN = HopfieldNet(num_neurons)\n",
    "HN.train(original)\n",
    "\n",
    "epochs = 10000\n",
    "for img in corrupted:\n",
    "    HN.init_state(img)\n",
    "    out = HN.forward(epochs)\n",
    "    retrieved.append(out)"
   ]
  },
  {
   "cell_type": "markdown",
   "id": "dd9f725f-d2d6-40db-8034-68e973d7fd36",
   "metadata": {},
   "source": [
    "# Plot"
   ]
  },
  {
   "cell_type": "code",
   "execution_count": 34,
   "id": "ff289c70-05c1-416d-bd98-24a3209c1211",
   "metadata": {},
   "outputs": [
    {
     "data": {
      "image/png": "[encoded data removed]",
      "text/plain": [
       "<Figure size 1200x800 with 15 Axes>"
      ]
     },
     "metadata": {},
     "output_type": "display_data"
    }
   ],
   "source": [
    "import matplotlib.pyplot as plt\n",
    "\n",
    "def plot_comparisons(original, corrupted, retrieved, title_corrupted, title_retrieved, num_samples=5):\n",
    "\n",
    "    fig, axes = plt.subplots(3, num_samples, figsize=(12, 8))\n",
    "\n",
    "    for i in range(num_samples):\n",
    "        # Original stored image\n",
    "        axes[0, i].imshow(original[i].reshape(32, 32), cmap='gray')\n",
    "        axes[0, i].axis('off')\n",
    "\n",
    "        # Corrupted image\n",
    "        axes[1, i].imshow(corrupted[i].reshape(32, 32), cmap='gray')\n",
    "        axes[1, i].axis('off')\n",
    "\n",
    "        # Retrieved image\n",
    "        axes[2, i].imshow(retrieved[i].reshape(32, 32), cmap='gray')\n",
    "        axes[2, i].axis('off')\n",
    "\n",
    "    # Add row titles\n",
    "    axes[0, 0].set_title(\"Original Stored Images\", fontsize=12, loc='center')\n",
    "    axes[1, 0].set_title(title_corrupted, fontsize=12, loc='center')\n",
    "    axes[2, 0].set_title(title_retrieved, fontsize=12, loc='center')\n",
    "\n",
    "    plt.show()\n",
    "\n",
    "# Plot results for masked images\n",
    "plot_comparisons(original, corrupted, retrieved, \"Corrupted (Masked) Images\", \"Retrieved Images\")"
   ]
  },
  {
   "cell_type": "markdown",
   "id": "313d5193-6af3-4e43-8d21-ddf6c08db42a",
   "metadata": {},
   "source": [
    "# Nuiances"
   ]
  },
  {
   "cell_type": "code",
   "execution_count": 63,
   "id": "e1343ee1-a79c-4631-8b84-4427bef13767",
   "metadata": {},
   "outputs": [],
   "source": [
    "def encode(name):\n",
    "    char_map = {chr(i + ord('a')): format(i, '05b') for i in range(26)}\n",
    "    binary_str = ''.join(char_map[ch] for ch in name)\n",
    "    encoded_list = [1 if bit == '1' else -1 for bit in binary_str]\n",
    "    padding_pattern = [1] * MAX_ENC\n",
    "    required_length = MAX_LEN * MAX_ENC\n",
    "    while len(encoded_list) < required_length:\n",
    "        encoded_list.extend(padding_pattern[:min(len(padding_pattern), required_length - len(encoded_list))])\n",
    "    return encoded_list[:MAX_LEN]"
   ]
  },
  {
   "cell_type": "code",
   "execution_count": 64,
   "id": "a1a82873-22af-4df8-90be-14d606c68245",
   "metadata": {},
   "outputs": [],
   "source": [
    "def decode(encoded_list):\n",
    "    char_map = {chr(i + ord('a')): format(i, '05b') for i in range(26)}\n",
    "    reverse_map = {v: k for k, v in char_map.items()}\n",
    "    binary_str = ''.join('1' if bit == 1 else '0' for bit in encoded_list)\n",
    "    decoded_name = ''.join(reverse_map[binary_str[i:i+MAX_ENC]] for i in range(0, len(binary_str), MAX_LEN) if binary_str[i:i+MAX_ENC] in reverse_map)\n",
    "    return decoded_name"
   ]
  },
  {
   "cell_type": "code",
   "execution_count": 92,
   "id": "2d91e392-351e-4395-af4a-4a46880ed526",
   "metadata": {},
   "outputs": [
    {
     "name": "stdout",
     "output_type": "stream",
     "text": [
      "iadhq\n"
     ]
    }
   ],
   "source": [
    "names = [\"trump\", \"kathy\", \"agent\", \"baker\", \"terry\"]\n",
    "name_encode = [encode(name) for name in names]\n",
    "\n",
    "HN = HopfieldNet(MAX_LEN * MAX_ENC)\n",
    "\n",
    "HN.train(name_encode)\n",
    "\n",
    "HN.init_state(encode(\"abcde\"))\n",
    "out = HN.forward(1000)\n",
    "\n",
    "out_name = decode(out)\n",
    "print(out_name)"
   ]
  },
  {
   "cell_type": "code",
   "execution_count": null,
   "id": "6c697779-f6c1-4a21-a84f-c3d446a1ca37",
   "metadata": {},
   "outputs": [],
   "source": []
  }
 ],
 "metadata": {
  "kernelspec": {
   "display_name": "Python 3 (ipykernel)",
   "language": "python",
   "name": "python3"
  },
  "language_info": {
   "codemirror_mode": {
    "name": "ipython",
    "version": 3
   },
   "file_extension": ".py",
   "mimetype": "text/x-python",
   "name": "python",
   "nbconvert_exporter": "python",
   "pygments_lexer": "ipython3",
   "version": "3.8.18"
  }
 },
 "nbformat": 4,
 "nbformat_minor": 5
}
