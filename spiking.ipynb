{
 "cells": [
  {
   "cell_type": "code",
   "execution_count": null,
   "metadata": {},
   "outputs": [],
   "source": [
    "import numpy as np\n",
    "import matplotlib.pyplot as plt"
   ]
  },
  {
   "cell_type": "markdown",
   "metadata": {},
   "source": [
    "# Main"
   ]
  },
  {
   "cell_type": "code",
   "execution_count": null,
   "metadata": {},
   "outputs": [],
   "source": [
    "## Izhikevich model code adapted from https://medium.com/geekculture/the-izhikevich-neuron-model-fb5d953b41e5\n",
    "## (but with inhibitory neuron stuff removed)\n",
    "class SpikingHN:\n",
    "    def __init__(self, N):\n",
    "        self.N = N                          # Number of neurons\n",
    "        self.W = np.zeros((N, N))           # Weight matrix (variable \"S\" in original Izhikevich formulation)\n",
    "\n",
    "        self.r = np.random.rand(N, 1)       # Random factor\n",
    "        self.a = 0.02 * np.ones((N, 1))     # Time scale of membrane recovery `u`\n",
    "        self.b = 0.2 * np.ones((N, 1))      # Sensitivity of `u` to fluctuations in membrane potential `v`\n",
    "        self.c = -65 + 15 * self.r**2       # After-spike reset value for `v`\n",
    "        self.d = 8 - 6 * self.r**2          # After-spike reset value for `u`\n",
    "    \n",
    "    def train(self, patterns, a=0.35, b=0.35):\n",
    "        ## Training regime for low-activity patterns (which are more biologically plausible)\n",
    "        ## Weight update equation taken from https://neuronaldynamics.epfl.ch/online/Ch17.S2.html#Ch17.E27\n",
    "        patterns = np.array(patterns)\n",
    "        activity = a        # Target activity level\n",
    "        b_const = b         # A constant between 0 and 1\n",
    "        c_prime = 1 / (2 * activity * (1 - activity) * self.N)    # A constant > 0\n",
    "\n",
    "        # Incorporate patterns into network weights\n",
    "        for pattern in patterns:\n",
    "            zeta = (pattern + 1) / 2    # Derived from p^{\\mu}_i = 2 \\zeta^{\\mu}_i - 1\n",
    "            zeta = np.array(zeta).reshape(-1, 1)\n",
    "            self.W += np.dot(zeta - b_const, zeta.T - activity)\n",
    "        \n",
    "        np.fill_diagonal(self.W, 0)\n",
    "        self.W /= c_prime\n",
    "    \n",
    "    def forward(self, start_pattern, time_steps=1000):\n",
    "        v = -65 * np.ones((self.N, 1))  # Initialize membrane potential\n",
    "        u = self.b * -65                # Initialize membrane recovery\n",
    "\n",
    "        firings_across_time = []\n",
    "        voltage_across_time = []\n",
    "\n",
    "        for t in range(1, time_steps + 1):\n",
    "            # Configure input currents for all neurons\n",
    "            if t == 1:\n",
    "                # Initial external input (the starting pattern)\n",
    "                I = np.array(start_pattern).reshape(-1, 1)\n",
    "            else:\n",
    "                # External input at all other time steps (just noise)\n",
    "                I = 0.1 * (np.random.rand(self.N, 1) - 0.5)\n",
    "\n",
    "            # When membrane potential `v` goes above 30 mV, we find the index, and append it to `fired`,\n",
    "            # then reset `v` and membrane recovery variable `u`\n",
    "            fired = np.where(v > 30)\n",
    "            firings_across_time.append([t + 0 * fired[0], fired[0]])\n",
    "            voltage_across_time.append(float(v[10]))\n",
    "\n",
    "            # Reset activity of neurons that have fired\n",
    "            for i in fired[0]:\n",
    "                v[i] = self.c[i]\n",
    "                u[i] += self.d[i]\n",
    "            \n",
    "            # Update input currents using weights and membrane potentials of fired neurons\n",
    "            # Inspired by https://www.fabriziomusacchio.com/blog/2024-05-19-izhikevich_network_model/#input-current\n",
    "            I += np.expand_dims(np.sum(self.W[:, fired[0]] @ v[fired[0]], axis = 1), axis = 1)\n",
    "\n",
    "            # Update membrane potential `v` and recovery var `u`\n",
    "            # Note: for `v` we have to do 0.5ms increments for numerical stability\n",
    "            v += 0.5 * (0.04 * v**2 + 5 * v + 140 - u + I)\n",
    "            v += 0.5 * (0.04 * v**2 + 5 * v + 140 - u + I)\n",
    "            u = u + self.a * (self.b * v - u)\n",
    "\n",
    "        output_pattern = np.where(v > 30, 1, -1)[0]      \n",
    "        voltage_across_time = np.array(voltage_across_time)\n",
    "        return output_pattern, firings_across_time, voltage_across_time"
   ]
  }
 ],
 "metadata": {
  "language_info": {
   "name": "python"
  }
 },
 "nbformat": 4,
 "nbformat_minor": 2
}
