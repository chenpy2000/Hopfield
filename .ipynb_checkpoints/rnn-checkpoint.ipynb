{
 "cells": [
  {
   "cell_type": "markdown",
   "id": "b5dbc759-4264-4429-93aa-9c5e85bc6bcc",
   "metadata": {},
   "source": [
    "# Data and Lib Initialization"
   ]
  },
  {
   "cell_type": "code",
   "execution_count": 1,
   "id": "9e24b8f4-601d-4cb2-b46e-de2e230c23e4",
   "metadata": {},
   "outputs": [],
   "source": [
    "import numpy as np\n",
    "import torch\n",
    "import torch.nn as nn\n",
    "import torch.optim as optim\n",
    "from torchvision import datasets, transforms\n",
    "from torch.utils.data import DataLoader"
   ]
  },
  {
   "cell_type": "code",
   "execution_count": 80,
   "id": "999bb546-9f26-4763-bf28-34c30169e26f",
   "metadata": {},
   "outputs": [],
   "source": [
    "# Hyperparameters\n",
    "batch_size = 1\n",
    "learning_rate = 1e-4\n",
    "epochs = 10"
   ]
  },
  {
   "cell_type": "code",
   "execution_count": 15,
   "id": "c3e62843-1762-436d-820b-52312830e876",
   "metadata": {},
   "outputs": [
    {
     "name": "stdout",
     "output_type": "stream",
     "text": [
      "Files already downloaded and verified\n"
     ]
    }
   ],
   "source": [
    "transform = transforms.Compose([\n",
    "    transforms.Grayscale(num_output_channels=1),\n",
    "    transforms.ToTensor()\n",
    "])\n",
    "train_dataset = datasets.CIFAR10(root='./data', train=True, download=True, transform=transform)\n",
    "# test_dataset = datasets.CIFAR10(root='./data', train=False, download=True, transform=transform)"
   ]
  },
  {
   "cell_type": "code",
   "execution_count": 19,
   "id": "1c7df068-8e52-4865-be34-b863b0d9afab",
   "metadata": {},
   "outputs": [
    {
     "data": {
      "text/plain": [
       "<matplotlib.image.AxesImage at 0x13b9428cca0>"
      ]
     },
     "execution_count": 19,
     "metadata": {},
     "output_type": "execute_result"
    },
    {
     "data": {
      "image/png": "[encoded data removed]",
      "text/plain": [
       "<Figure size 640x480 with 1 Axes>"
      ]
     },
     "metadata": {},
     "output_type": "display_data"
    }
   ],
   "source": [
    "data = train_dataset[0][0]\n",
    "import matplotlib.pyplot as plt\n",
    "# img = data.permute(1, 2, 0).numpy()\n",
    "img = data[0]\n",
    "plt.imshow(img, cmap=\"gray\")"
   ]
  },
  {
   "cell_type": "code",
   "execution_count": 21,
   "id": "dea2dda5-4157-492b-a666-cbae751595a5",
   "metadata": {},
   "outputs": [
    {
     "data": {
      "text/plain": [
       "tensor([[0.2392, 0.1765, 0.1882,  ..., 0.5373, 0.5098, 0.5059],\n",
       "        [0.0745, 0.0000, 0.0392,  ..., 0.3725, 0.3529, 0.3686],\n",
       "        [0.0941, 0.0353, 0.1216,  ..., 0.3529, 0.3569, 0.3137],\n",
       "        ...,\n",
       "        [0.6784, 0.6039, 0.6157,  ..., 0.5255, 0.1412, 0.1490],\n",
       "        [0.5725, 0.5059, 0.5647,  ..., 0.6000, 0.2706, 0.2353],\n",
       "        [0.5922, 0.5373, 0.5765,  ..., 0.7412, 0.4863, 0.3882]])"
      ]
     },
     "execution_count": 21,
     "metadata": {},
     "output_type": "execute_result"
    }
   ],
   "source": [
    "img"
   ]
  },
  {
   "cell_type": "code",
   "execution_count": 23,
   "id": "32d33101-8bbd-4373-8778-7fdc45bc53f2",
   "metadata": {},
   "outputs": [
    {
     "data": {
      "text/plain": [
       "tensor([[ 61,  45,  48,  ..., 137, 130, 129],\n",
       "        [ 19,   0,  10,  ...,  95,  90,  94],\n",
       "        [ 24,   9,  31,  ...,  90,  91,  80],\n",
       "        ...,\n",
       "        [173, 154, 157,  ..., 134,  36,  38],\n",
       "        [146, 129, 144,  ..., 153,  69,  60],\n",
       "        [151, 137, 147,  ..., 189, 124,  99]], dtype=torch.uint8)"
      ]
     },
     "execution_count": 23,
     "metadata": {},
     "output_type": "execute_result"
    }
   ],
   "source": [
    "tensor_255 = (img * 255).to(torch.uint8)\n",
    "tensor_255"
   ]
  },
  {
   "cell_type": "markdown",
   "id": "a0b28c97-c8b1-44f5-aabf-a350c979dad1",
   "metadata": {},
   "source": [
    "# Image Encoding and Decoding"
   ]
  },
  {
   "cell_type": "code",
   "execution_count": 28,
   "id": "cf574d9a-d701-4dda-87e8-3051deb8ae47",
   "metadata": {},
   "outputs": [],
   "source": [
    "def encode(img):\n",
    "    flat = img.flatten()\n",
    "    flat_np = flat.numpy().astype(np.uint8)\n",
    "    bits = np.unpackbits(flat_np.reshape(-1, 1), axis=1)\n",
    "    encoded = 2 * bits - 1\n",
    "    encoded_flat = encoded.flatten()\n",
    "    return torch.tensor(encoded_flat, dtype=torch.int8)"
   ]
  },
  {
   "cell_type": "code",
   "execution_count": 75,
   "id": "6c21f01f-75f3-48fa-98b0-ce294facf1b0",
   "metadata": {},
   "outputs": [],
   "source": [
    "def decode(encoded):\n",
    "    encoded_reshaped = encoded.reshape(-1, 8)\n",
    "    bits = ((encoded_reshaped + 1) // 2).numpy().astype(np.uint8)\n",
    "    pixels = np.packbits(bits, axis=1)\n",
    "    pixels = pixels.squeeze(1)\n",
    "    \n",
    "    img = torch.from_numpy(pixels).reshape(32, 32)\n",
    "    return img"
   ]
  },
  {
   "cell_type": "code",
   "execution_count": 45,
   "id": "d594ba01-37a3-4eef-89bc-d1628a9ef46b",
   "metadata": {},
   "outputs": [
    {
     "name": "stdout",
     "output_type": "stream",
     "text": [
      "tensor([-1, -1,  1,  ..., -1,  1,  1], dtype=torch.int8)\n"
     ]
    },
    {
     "data": {
      "text/plain": [
       "8192"
      ]
     },
     "execution_count": 45,
     "metadata": {},
     "output_type": "execute_result"
    }
   ],
   "source": [
    "imgenc = encode(tensor_255)\n",
    "print(imgenc)\n",
    "len(imgenc)"
   ]
  },
  {
   "cell_type": "code",
   "execution_count": 44,
   "id": "93996483-7cc3-4301-a863-477a28827443",
   "metadata": {},
   "outputs": [
    {
     "data": {
      "text/plain": [
       "32"
      ]
     },
     "execution_count": 44,
     "metadata": {},
     "output_type": "execute_result"
    }
   ],
   "source": [
    "img2 = decode(imgenc)\n",
    "img2\n"
   ]
  },
  {
   "cell_type": "code",
   "execution_count": 37,
   "id": "c58d4d9e-5a9c-4ad1-b8e1-a7bf0ca26032",
   "metadata": {},
   "outputs": [
    {
     "data": {
      "text/plain": [
       "<matplotlib.image.AxesImage at 0x13b8bf3ac70>"
      ]
     },
     "execution_count": 37,
     "metadata": {},
     "output_type": "execute_result"
    },
    {
     "data": {
      "image/png": "[encoded data removed]",
      "text/plain": [
       "<Figure size 640x480 with 1 Axes>"
      ]
     },
     "metadata": {},
     "output_type": "display_data"
    }
   ],
   "source": [
    "plt.imshow(img2, cmap=\"gray\")"
   ]
  },
  {
   "cell_type": "markdown",
   "id": "3b4ac89b-de50-4928-805e-1bfd40c7794d",
   "metadata": {},
   "source": [
    "# Data Preparing"
   ]
  },
  {
   "cell_type": "code",
   "execution_count": 55,
   "id": "02606048-0bb8-4a3b-a3cf-5f656f9c5275",
   "metadata": {},
   "outputs": [],
   "source": [
    "data = []\n",
    "for i in range(2):\n",
    "    fig = train_dataset[i][0]\n",
    "    tensor_fig = (fig * 255).to(torch.uint8)\n",
    "    fig_enc = encode(tensor_fig).to(torch.float)\n",
    "    data.append(fig_enc)\n",
    "\n",
    "loader = DataLoader(data, batch_size=batch_size, shuffle=False)"
   ]
  },
  {
   "cell_type": "markdown",
   "id": "85a69f50-3a2f-4b83-855c-249d443caf73",
   "metadata": {},
   "source": [
    "# Main"
   ]
  },
  {
   "cell_type": "code",
   "execution_count": 82,
   "id": "c2761bbd-8aa3-4306-bac3-a88be9326969",
   "metadata": {},
   "outputs": [],
   "source": [
    "class HopfieldNet(nn.Module):\n",
    "    def __init__(self):\n",
    "        super(HopfieldNet, self).__init__()\n",
    "        self.dropout = nn.Dropout(p=0.25)\n",
    "        self.skip = nn.Linear(8192, 8192)\n",
    "        self.down = nn.Linear(8192, 100)\n",
    "        self.up   = nn.Linear(100, 8192)\n",
    "        self.activation = nn.Tanh()\n",
    "\n",
    "    def forward(self, x):\n",
    "        x = self.dropout(x)\n",
    "        x_skip = self.skip(x)\n",
    "        x_hidden = self.activation(self.down(x))\n",
    "        x_hidden = self.activation(self.up(x_hidden))\n",
    "        return x_skip + x_hidden"
   ]
  },
  {
   "cell_type": "code",
   "execution_count": 83,
   "id": "3d5b4a36-b20a-43fa-a4c8-831bc9a7c15f",
   "metadata": {},
   "outputs": [],
   "source": [
    "model = HopfieldNet()\n",
    "criterion = nn.MSELoss()\n",
    "optimizer = optim.Adam(model.parameters(), lr=learning_rate)"
   ]
  },
  {
   "cell_type": "code",
   "execution_count": 84,
   "id": "b509f91e-6922-4e68-86d7-72c59d174ab5",
   "metadata": {},
   "outputs": [
    {
     "name": "stdout",
     "output_type": "stream",
     "text": [
      "Epoch [1/10], Loss: 1.514116\n",
      "Epoch [2/10], Loss: 0.586656\n",
      "Epoch [3/10], Loss: 0.330015\n",
      "Epoch [4/10], Loss: 0.395496\n",
      "Epoch [5/10], Loss: 0.464758\n",
      "Epoch [6/10], Loss: 0.444534\n",
      "Epoch [7/10], Loss: 0.371025\n",
      "Epoch [8/10], Loss: 0.299912\n",
      "Epoch [9/10], Loss: 0.259813\n",
      "Epoch [10/10], Loss: 0.246000\n"
     ]
    }
   ],
   "source": [
    "for epoch in range(epochs):\n",
    "    model.train()\n",
    "    total_loss = 0.0\n",
    "    for inputs in loader:\n",
    "        optimizer.zero_grad()          # Clear gradients\n",
    "        outputs = model(inputs)          # Forward pass\n",
    "        loss = criterion(outputs, inputs)  # Compute reconstruction loss\n",
    "        loss.backward()                  # Backpropagation\n",
    "        optimizer.step()                 # Update weights\n",
    "        \n",
    "        total_loss += loss.item()\n",
    "    avg_loss = total_loss / len(loader)\n",
    "    print(f\"Epoch [{epoch+1}/{epochs}], Loss: {avg_loss:.6f}\")"
   ]
  },
  {
   "cell_type": "code",
   "execution_count": 85,
   "id": "d2285177-04cd-4283-bc76-9df3ba3d0a81",
   "metadata": {},
   "outputs": [],
   "source": [
    "out1 = model(data[0])\n",
    "binary_out = np.where(out1 < 0, -1, 1)"
   ]
  },
  {
   "cell_type": "code",
   "execution_count": 87,
   "id": "8eab55ac-fecf-4bd0-bf99-8b1f18433b86",
   "metadata": {},
   "outputs": [],
   "source": [
    "img_out = decode(binary_out)"
   ]
  },
  {
   "cell_type": "code",
   "execution_count": 88,
   "id": "cf4ab6cc-5745-4e53-94eb-1cba0e4f7a15",
   "metadata": {},
   "outputs": [
    {
     "data": {
      "text/plain": [
       "<matplotlib.image.AxesImage at 0x13b973e7f40>"
      ]
     },
     "execution_count": 88,
     "metadata": {},
     "output_type": "execute_result"
    },
    {
     "data": {
      "image/png": "[encoded data removed]",
      "text/plain": [
       "<Figure size 640x480 with 1 Axes>"
      ]
     },
     "metadata": {},
     "output_type": "display_data"
    }
   ],
   "source": [
    "plt.imshow(img_out)"
   ]
  },
  {
   "cell_type": "code",
   "execution_count": null,
   "id": "d444fc48-6e13-4fc8-8806-d19b3f56d666",
   "metadata": {},
   "outputs": [],
   "source": []
  }
 ],
 "metadata": {
  "kernelspec": {
   "display_name": "Python 3 (ipykernel)",
   "language": "python",
   "name": "python3"
  },
  "language_info": {
   "codemirror_mode": {
    "name": "ipython",
    "version": 3
   },
   "file_extension": ".py",
   "mimetype": "text/x-python",
   "name": "python",
   "nbconvert_exporter": "python",
   "pygments_lexer": "ipython3",
   "version": "3.8.18"
  }
 },
 "nbformat": 4,
 "nbformat_minor": 5
}
