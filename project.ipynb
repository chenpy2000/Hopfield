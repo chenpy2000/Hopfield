{
 "cells": [
  {
   "cell_type": "code",
   "execution_count": 49,
   "id": "cccd97cd-a694-4def-bb07-9186a302f1e2",
   "metadata": {},
   "outputs": [],
   "source": [
    "import numpy as np\n",
    "\n",
    "# Hyperparams\n",
    "MAX_LEN = 5\n",
    "MAX_ENC = 5"
   ]
  },
  {
   "cell_type": "code",
   "execution_count": 62,
   "id": "e9a316a4-d379-4d52-982b-cdf4bf328f8e",
   "metadata": {},
   "outputs": [],
   "source": [
    "class HopfieldNet:\n",
    "    def __init__(self, N):\n",
    "        self.N = N\n",
    "        self.W = np.zeros((N, N))\n",
    "        self.state = np.random.choice([-1, 1], size=self.N)\n",
    "    \n",
    "    def train(self, patterns):\n",
    "        patterns = np.array(patterns)\n",
    "        for pattern in patterns:\n",
    "            pattern = np.array(pattern).reshape(-1, 1)\n",
    "            self.W += np.dot(pattern, pattern.T)\n",
    "        \n",
    "        np.fill_diagonal(self.W, 0)\n",
    "        self.W /= self.N\n",
    "\n",
    "    def init_state(self, pattern):\n",
    "        self.state = pattern\n",
    "    \n",
    "    def forward(self, steps):\n",
    "        for _ in range(steps):\n",
    "            i = np.random.randint(0, self.N)\n",
    "            self.state[i] = 1 if np.dot(self.W[i], self.state) >= 0 else -1  # Update neuron i\n",
    "        return self.state"
   ]
  },
  {
   "cell_type": "code",
   "execution_count": 63,
   "id": "e1343ee1-a79c-4631-8b84-4427bef13767",
   "metadata": {},
   "outputs": [],
   "source": [
    "def encode(name):\n",
    "    char_map = {chr(i + ord('a')): format(i, '05b') for i in range(26)}\n",
    "    binary_str = ''.join(char_map[ch] for ch in name)\n",
    "    encoded_list = [1 if bit == '1' else -1 for bit in binary_str]\n",
    "    padding_pattern = [1] * MAX_ENC\n",
    "    required_length = MAX_LEN * MAX_ENC\n",
    "    while len(encoded_list) < required_length:\n",
    "        encoded_list.extend(padding_pattern[:min(len(padding_pattern), required_length - len(encoded_list))])\n",
    "    return encoded_list[:MAX_LEN]"
   ]
  },
  {
   "cell_type": "code",
   "execution_count": 64,
   "id": "a1a82873-22af-4df8-90be-14d606c68245",
   "metadata": {},
   "outputs": [],
   "source": [
    "def decode(encoded_list):\n",
    "    char_map = {chr(i + ord('a')): format(i, '05b') for i in range(26)}\n",
    "    reverse_map = {v: k for k, v in char_map.items()}\n",
    "    binary_str = ''.join('1' if bit == 1 else '0' for bit in encoded_list)\n",
    "    decoded_name = ''.join(reverse_map[binary_str[i:i+MAX_ENC]] for i in range(0, len(binary_str), MAX_LEN) if binary_str[i:i+MAX_ENC] in reverse_map)\n",
    "    return decoded_name"
   ]
  },
  {
   "cell_type": "code",
   "execution_count": 92,
   "id": "2d91e392-351e-4395-af4a-4a46880ed526",
   "metadata": {},
   "outputs": [
    {
     "name": "stdout",
     "output_type": "stream",
     "text": [
      "iadhq\n"
     ]
    }
   ],
   "source": [
    "names = [\"trump\", \"kathy\", \"agent\", \"baker\", \"terry\"]\n",
    "name_encode = [encode(name) for name in names]\n",
    "\n",
    "HN = HopfieldNet(MAX_LEN * MAX_ENC)\n",
    "\n",
    "HN.train(name_encode)\n",
    "\n",
    "HN.init_state(encode(\"abcde\"))\n",
    "out = HN.forward(1000)\n",
    "\n",
    "out_name = decode(out)\n",
    "print(out_name)"
   ]
  },
  {
   "cell_type": "code",
   "execution_count": null,
   "id": "6c697779-f6c1-4a21-a84f-c3d446a1ca37",
   "metadata": {},
   "outputs": [],
   "source": []
  }
 ],
 "metadata": {
  "kernelspec": {
   "display_name": "Python 3 (ipykernel)",
   "language": "python",
   "name": "python3"
  },
  "language_info": {
   "codemirror_mode": {
    "name": "ipython",
    "version": 3
   },
   "file_extension": ".py",
   "mimetype": "text/x-python",
   "name": "python",
   "nbconvert_exporter": "python",
   "pygments_lexer": "ipython3",
   "version": "3.8.18"
  }
 },
 "nbformat": 4,
 "nbformat_minor": 5
}
